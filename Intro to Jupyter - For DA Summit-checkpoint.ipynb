{
 "cells": [
  {
   "cell_type": "markdown",
   "metadata": {
    "nbpresent": {
     "id": "db97b86c-2083-4d1b-a225-11ae1501314a"
    }
   },
   "source": [
    "# Introduction to Jupyter Notebook (.ipynb) \n",
    "#### Rethink Excel Workbooks (.xlsb)\n"
   ]
  },
  {
   "cell_type": "markdown",
   "metadata": {
    "nbpresent": {
     "id": "bae7ae9d-eb10-4199-96ec-76f07a933a00"
    }
   },
   "source": [
    "### Why Jupyter?  Rich, Modern, Beautiful \n",
    "<UL>- Allows you to easily share your code, data, plots, and explanation in a single notebook </UL>\n",
    "<UL>- Publishing is flexible: PDF, HTML, ipynb, dashboards, slides, and more. </UL>"
   ]
  },
  {
   "cell_type": "code",
   "execution_count": 1,
   "metadata": {
    "collapsed": false,
    "nbpresent": {
     "id": "a55667de-5183-417b-bc24-30cf27d41fe9"
    }
   },
   "outputs": [
    {
     "name": "stdout",
     "output_type": "stream",
     "text": [
      "hello world\n"
     ]
    }
   ],
   "source": [
    "print (\"hello world\")"
   ]
  },
  {
   "cell_type": "markdown",
   "metadata": {
    "nbpresent": {
     "id": "16fe02ab-39f5-487f-b60c-7703d0121169"
    }
   },
   "source": [
    "#### We'll use Python and some of it's packages/libraries :\n",
    "\n",
    "<UL> - Pandas: import data via a url and create a dataframe to easily handle data for analysis and graphing. </UL>\n",
    "<UL> - NumPy: a package for scientific computing with tools for algebra, random number generation, integrating with databases, and managing data. </UL>\n",
    "<UL> - SciPy: a Python-based ecosystem of packages for math, science, and engineering.</UL>\n",
    "<UL>- Plotly: a graphing library for making interactive, publication-quality graphs. More here: https://plot.ly/python.<UL>"
   ]
  },
  {
   "cell_type": "code",
   "execution_count": null,
   "metadata": {
    "collapsed": true,
    "nbpresent": {
     "id": "dba72cc1-93d6-4cf0-9539-68f3d5d5b5b3"
    }
   },
   "outputs": [],
   "source": []
  },
  {
   "cell_type": "code",
   "execution_count": 2,
   "metadata": {
    "collapsed": false,
    "nbpresent": {
     "id": "209d5a27-2a38-44ab-a869-204d5ffe8774"
    }
   },
   "outputs": [],
   "source": [
    "import pandas as pd\n",
    "import numpy as np\n",
    "import scipy as sp\n",
    "#!pip install plotly\n",
    "import plotly\n",
    "plotly.tools.set_credentials_file(username='rgoyal30', api_key='2Y4VA3MtZKchj2SQyCrI')\n",
    "import plotly.plotly as py\n",
    "from plotly.tools import FigureFactory as ff\n"
   ]
  },
  {
   "cell_type": "code",
   "execution_count": 3,
   "metadata": {
    "collapsed": false,
    "nbpresent": {
     "id": "ebabe44f-f6ae-42b3-bfc5-d2b66ae5c4d7"
    }
   },
   "outputs": [
    {
     "data": {
      "text/html": [
       "<div>\n",
       "<table border=\"1\" class=\"dataframe\">\n",
       "  <thead>\n",
       "    <tr style=\"text-align: right;\">\n",
       "      <th></th>\n",
       "      <th>School</th>\n",
       "      <th>Women</th>\n",
       "      <th>Men</th>\n",
       "      <th>Gap</th>\n",
       "    </tr>\n",
       "  </thead>\n",
       "  <tbody>\n",
       "    <tr>\n",
       "      <th>0</th>\n",
       "      <td>MIT</td>\n",
       "      <td>94</td>\n",
       "      <td>152</td>\n",
       "      <td>58</td>\n",
       "    </tr>\n",
       "    <tr>\n",
       "      <th>1</th>\n",
       "      <td>Stanford</td>\n",
       "      <td>96</td>\n",
       "      <td>151</td>\n",
       "      <td>55</td>\n",
       "    </tr>\n",
       "    <tr>\n",
       "      <th>2</th>\n",
       "      <td>Harvard</td>\n",
       "      <td>112</td>\n",
       "      <td>165</td>\n",
       "      <td>53</td>\n",
       "    </tr>\n",
       "    <tr>\n",
       "      <th>3</th>\n",
       "      <td>U.Penn</td>\n",
       "      <td>92</td>\n",
       "      <td>141</td>\n",
       "      <td>49</td>\n",
       "    </tr>\n",
       "    <tr>\n",
       "      <th>4</th>\n",
       "      <td>Princeton</td>\n",
       "      <td>90</td>\n",
       "      <td>137</td>\n",
       "      <td>47</td>\n",
       "    </tr>\n",
       "  </tbody>\n",
       "</table>\n",
       "</div>"
      ],
      "text/plain": [
       "      School  Women  Men  Gap\n",
       "0        MIT     94  152   58\n",
       "1   Stanford     96  151   55\n",
       "2    Harvard    112  165   53\n",
       "3     U.Penn     92  141   49\n",
       "4  Princeton     90  137   47"
      ]
     },
     "execution_count": 3,
     "metadata": {},
     "output_type": "execute_result"
    }
   ],
   "source": [
    "df = pd.read_csv(\"https://raw.githubusercontent.com/plotly/datasets/master/school_earnings.csv\")\n",
    "\n",
    "table = ff.create_table(df)\n",
    "\n",
    "df.head(5)\n",
    "#py.iplot(table, filename='jupyter-table1')"
   ]
  },
  {
   "cell_type": "code",
   "execution_count": 4,
   "metadata": {
    "collapsed": false,
    "nbpresent": {
     "id": "1404b24a-e11b-4081-a008-487bdf25215c"
    }
   },
   "outputs": [
    {
     "data": {
      "text/html": [
       "<div>\n",
       "<table border=\"1\" class=\"dataframe\">\n",
       "  <thead>\n",
       "    <tr style=\"text-align: right;\">\n",
       "      <th></th>\n",
       "      <th>Women</th>\n",
       "      <th>Men</th>\n",
       "      <th>Gap</th>\n",
       "    </tr>\n",
       "  </thead>\n",
       "  <tbody>\n",
       "    <tr>\n",
       "      <th>count</th>\n",
       "      <td>21.000000</td>\n",
       "      <td>21.000000</td>\n",
       "      <td>21.000000</td>\n",
       "    </tr>\n",
       "    <tr>\n",
       "      <th>mean</th>\n",
       "      <td>81.095238</td>\n",
       "      <td>113.523810</td>\n",
       "      <td>32.428571</td>\n",
       "    </tr>\n",
       "    <tr>\n",
       "      <th>std</th>\n",
       "      <td>12.813683</td>\n",
       "      <td>25.705289</td>\n",
       "      <td>14.137084</td>\n",
       "    </tr>\n",
       "    <tr>\n",
       "      <th>min</th>\n",
       "      <td>62.000000</td>\n",
       "      <td>78.000000</td>\n",
       "      <td>9.000000</td>\n",
       "    </tr>\n",
       "    <tr>\n",
       "      <th>25%</th>\n",
       "      <td>72.000000</td>\n",
       "      <td>92.000000</td>\n",
       "      <td>22.000000</td>\n",
       "    </tr>\n",
       "    <tr>\n",
       "      <th>50%</th>\n",
       "      <td>79.000000</td>\n",
       "      <td>114.000000</td>\n",
       "      <td>31.000000</td>\n",
       "    </tr>\n",
       "    <tr>\n",
       "      <th>75%</th>\n",
       "      <td>92.000000</td>\n",
       "      <td>131.000000</td>\n",
       "      <td>40.000000</td>\n",
       "    </tr>\n",
       "    <tr>\n",
       "      <th>max</th>\n",
       "      <td>112.000000</td>\n",
       "      <td>165.000000</td>\n",
       "      <td>58.000000</td>\n",
       "    </tr>\n",
       "  </tbody>\n",
       "</table>\n",
       "</div>"
      ],
      "text/plain": [
       "            Women         Men        Gap\n",
       "count   21.000000   21.000000  21.000000\n",
       "mean    81.095238  113.523810  32.428571\n",
       "std     12.813683   25.705289  14.137084\n",
       "min     62.000000   78.000000   9.000000\n",
       "25%     72.000000   92.000000  22.000000\n",
       "50%     79.000000  114.000000  31.000000\n",
       "75%     92.000000  131.000000  40.000000\n",
       "max    112.000000  165.000000  58.000000"
      ]
     },
     "execution_count": 4,
     "metadata": {},
     "output_type": "execute_result"
    }
   ],
   "source": [
    "df.describe()"
   ]
  },
  {
   "cell_type": "markdown",
   "metadata": {
    "nbpresent": {
     "id": "8f54a144-5b6a-4c6d-9111-cf6d0b6e8e66"
    }
   },
   "source": [
    "Use dataframe.column_title to index the dataframe:\n",
    "\n"
   ]
  },
  {
   "cell_type": "code",
   "execution_count": 5,
   "metadata": {
    "collapsed": false,
    "nbpresent": {
     "id": "0743e68a-7963-41e3-8309-cc9973238410"
    }
   },
   "outputs": [
    {
     "data": {
      "text/plain": [
       "'MIT'"
      ]
     },
     "execution_count": 5,
     "metadata": {},
     "output_type": "execute_result"
    }
   ],
   "source": [
    "schools = df.School\n",
    "schools[0]"
   ]
  },
  {
   "cell_type": "markdown",
   "metadata": {
    "nbpresent": {
     "id": "b656f580-82a6-4da6-8d81-05495cd4baa6"
    }
   },
   "source": [
    "Most pandas functions also work on an entire dataframe. For example, calling std() calculates the standard deviation for each column.\n"
   ]
  },
  {
   "cell_type": "code",
   "execution_count": 6,
   "metadata": {
    "collapsed": false,
    "nbpresent": {
     "id": "298e46d1-5e12-4211-b720-0db07efbb676"
    }
   },
   "outputs": [
    {
     "data": {
      "text/plain": [
       "Women    12.813683\n",
       "Men      25.705289\n",
       "Gap      14.137084\n",
       "dtype: float64"
      ]
     },
     "execution_count": 6,
     "metadata": {},
     "output_type": "execute_result"
    }
   ],
   "source": [
    "df.std()"
   ]
  },
  {
   "cell_type": "markdown",
   "metadata": {
    "nbpresent": {
     "id": "01a08b32-696c-4bf6-912e-f9d6f7db1406"
    }
   },
   "source": [
    "### Plotting Inline."
   ]
  },
  {
   "cell_type": "code",
   "execution_count": 7,
   "metadata": {
    "collapsed": false,
    "nbpresent": {
     "id": "29fec28b-9ea7-4c00-8eca-e56ea7a075d2"
    }
   },
   "outputs": [
    {
     "name": "stdout",
     "output_type": "stream",
     "text": [
      "High five! You successfully sent some data to your account on plotly. View your plot in your browser at https://plot.ly/~rgoyal30/0 or inside your plot.ly account where it is named 'jupyter-basic_bar'\n"
     ]
    },
    {
     "data": {
      "text/html": [
       "<iframe id=\"igraph\" scrolling=\"no\" style=\"border:none;\" seamless=\"seamless\" src=\"https://plot.ly/~rgoyal30/0.embed\" height=\"525px\" width=\"100%\"></iframe>"
      ],
      "text/plain": [
       "<plotly.tools.PlotlyDisplay object>"
      ]
     },
     "execution_count": 7,
     "metadata": {},
     "output_type": "execute_result"
    }
   ],
   "source": [
    "from plotly.graph_objs import *\n",
    "\n",
    "data = [Bar(x=df.School,\n",
    "            y=df.Gap)]\n",
    "\n",
    "py.iplot(data, filename='jupyter-basic_bar')"
   ]
  },
  {
   "cell_type": "code",
   "execution_count": null,
   "metadata": {
    "collapsed": true,
    "nbpresent": {
     "id": "7086363c-1d32-42ba-b86a-67f4bc028cff"
    }
   },
   "outputs": [],
   "source": []
  },
  {
   "cell_type": "markdown",
   "metadata": {
    "nbpresent": {
     "id": "3420be5f-f831-48c5-a229-212003529b0c"
    }
   },
   "source": [
    "Plotting multiple traces and styling the chart with custom colors and titles is simple with Plotly syntax. Additionally, you can control the privacy with sharing set to public, private, or secret."
   ]
  },
  {
   "cell_type": "code",
   "execution_count": 8,
   "metadata": {
    "collapsed": false,
    "nbpresent": {
     "id": "0bfb5d3b-1215-4773-a7ec-16ed9e6aaec2"
    },
    "scrolled": true
   },
   "outputs": [
    {
     "data": {
      "text/html": [
       "<iframe id=\"igraph\" scrolling=\"no\" style=\"border:none;\" seamless=\"seamless\" src=\"https://plot.ly/~rgoyal30/2.embed\" height=\"525px\" width=\"100%\"></iframe>"
      ],
      "text/plain": [
       "<plotly.tools.PlotlyDisplay object>"
      ]
     },
     "execution_count": 8,
     "metadata": {},
     "output_type": "execute_result"
    }
   ],
   "source": [
    "import plotly.plotly as py\n",
    "import plotly.graph_objs as go\n",
    "\n",
    "trace_women = go.Bar(x=df.School,\n",
    "                  y=df.Women,\n",
    "                  name='Women',\n",
    "                  marker=dict(color='#ffcdd2'))\n",
    "\n",
    "trace_men = go.Bar(x=df.School,\n",
    "                y=df.Men,\n",
    "                name='Men',\n",
    "                marker=dict(color='#A2D5F2'))\n",
    "\n",
    "trace_gap = go.Bar(x=df.School,\n",
    "                y=df.Gap,\n",
    "                name='Gap',\n",
    "                marker=dict(color='#59606D'))\n",
    "\n",
    "data = [trace_women, trace_men, trace_gap]\n",
    "\n",
    "layout = go.Layout(title=\"Average Earnings for Graduates\",\n",
    "                xaxis=dict(title='School'),\n",
    "                yaxis=dict(title='Salary (in thousands)'))\n",
    "\n",
    "fig = go.Figure(data=data, layout=layout)\n",
    "\n",
    "py.iplot(fig, filename='jupyter-styled_bar')\n",
    "#py.iplot(fig, sharing='private', filename='jupyter-styled_bar')"
   ]
  },
  {
   "cell_type": "markdown",
   "metadata": {
    "nbpresent": {
     "id": "7f7086b1-6d4e-4f90-af02-442a8f624c27"
    }
   },
   "source": [
    "#### Plotting Interactive Maps\n",
    "\n",
    "Now we have interactive charts displayed in our notebook. Hover on the chart to see the values for each bar, click and drag to zoom into a specific section or click on the legend to hide/show a trace.\n",
    "\n",
    "Plotting Interactive Maps\n",
    "Plotly is now integrated with Mapbox. In this example we'll plot lattitude and longitude data of nuclear waste sites. To plot on Mapbox maps with Plotly you'll need a Mapbox account and a Mapbox Access Token which you can add to your Plotly settings."
   ]
  },
  {
   "cell_type": "code",
   "execution_count": 9,
   "metadata": {
    "collapsed": false,
    "nbpresent": {
     "id": "3b776f64-65ee-412e-b7c7-6551c24faf3b"
    }
   },
   "outputs": [
    {
     "data": {
      "text/html": [
       "<iframe id=\"igraph\" scrolling=\"no\" style=\"border:none;\" seamless=\"seamless\" src=\"https://plot.ly/~rgoyal30/4.embed\" height=\"525px\" width=\"100%\"></iframe>"
      ],
      "text/plain": [
       "<plotly.tools.PlotlyDisplay object>"
      ]
     },
     "execution_count": 9,
     "metadata": {},
     "output_type": "execute_result"
    }
   ],
   "source": [
    "#@hidden_cell\n",
    "import plotly.plotly as py\n",
    "import plotly.graph_objs as go\n",
    "\n",
    "import pandas as pd\n",
    "\n",
    "mapbox_access_token = 'pk.eyJ1IjoicmdveWFsMzAiLCJhIjoiY2pneHFreHNjMWozMDJxbXphdjZtNmptayJ9.AtEJqX-XsOtKwKXmggdu4Q'\n",
    "\n",
    "df = pd.read_csv('https://raw.githubusercontent.com/plotly/datasets/master/Nuclear%20Waste%20Sites%20on%20American%20Campuses.csv')\n",
    "site_lat = df.lat\n",
    "site_lon = df.lon\n",
    "locations_name = df.text\n",
    "\n",
    "data = [\n",
    "    go.Scattermapbox(\n",
    "        lat=site_lat,\n",
    "        lon=site_lon,\n",
    "        mode='markers',\n",
    "        marker=dict(\n",
    "            size=17,\n",
    "            color='rgb(255, 0, 0)',\n",
    "            opacity=0.7\n",
    "        ),\n",
    "        text=locations_name,\n",
    "        hoverinfo='text'\n",
    "    ),\n",
    "    go.Scattermapbox(\n",
    "        lat=site_lat,\n",
    "        lon=site_lon,\n",
    "        mode='markers',\n",
    "        marker=dict(\n",
    "            size=8,\n",
    "            color='rgb(242, 177, 172)',\n",
    "            opacity=0.7\n",
    "        ),\n",
    "        text=locations_name,\n",
    "        hoverinfo='text'\n",
    "    )]\n",
    "\n",
    "\n",
    "layout = go.Layout(\n",
    "    title='Nuclear Waste Sites on Campus',\n",
    "    autosize=True,\n",
    "    hovermode='closest',\n",
    "    showlegend=False,\n",
    "    mapbox=dict(\n",
    "        accesstoken=mapbox_access_token,\n",
    "        bearing=0,\n",
    "        center=dict(\n",
    "            lat=38,\n",
    "            lon=-94\n",
    "        ),\n",
    "        pitch=0,\n",
    "        zoom=3,\n",
    "        style='light'\n",
    "    ),\n",
    ")\n",
    "\n",
    "fig = dict(data=data, layout=layout)\n",
    "\n",
    "py.iplot(fig, filename='jupyter-Nuclear Waste Sites on American Campuses')\n"
   ]
  },
  {
   "cell_type": "markdown",
   "metadata": {
    "nbpresent": {
     "id": "e4de41b4-771b-445b-b56e-c92ef92c0ad9"
    }
   },
   "source": [
    "### And much more \n",
    "\n",
    "<UL> 3D Plots, Animation Plots </UL>\n",
    "<UL> Dashboards </UL>\n",
    "<UL> \n",
    "\n",
    "## And Machine Learning, Deep Learning "
   ]
  },
  {
   "cell_type": "code",
   "execution_count": null,
   "metadata": {
    "collapsed": true,
    "nbpresent": {
     "id": "4eb5a6e0-4e63-4483-9b3f-5a1cdfa10cfc"
    }
   },
   "outputs": [],
   "source": []
  },
  {
   "cell_type": "code",
   "execution_count": null,
   "metadata": {
    "collapsed": true,
    "nbpresent": {
     "id": "e4b7ccbf-62dc-4a7a-b17a-a670c140f47e"
    }
   },
   "outputs": [],
   "source": []
  },
  {
   "cell_type": "markdown",
   "metadata": {
    "nbpresent": {
     "id": "ff2debc1-4e57-481c-966e-906407f2ed57"
    }
   },
   "source": [
    "## Getting Started\n",
    "Once you've installed the Notebook, you start from your terminal by calling $ jupyter notebook. This will open a browser on a localhost to the URL of your Notebooks, by default http://127.0.0.1:8888. Windows users need to open up their Command Prompt. You'll see a dashboard with all your Notebooks. You can launch your Notebooks from there. The Notebook has the advantage of looking the same when you're coding and publishing. You just have all the options to move code, run cells, change kernels, and use Markdown when you're running a NB.\n",
    "\n",
    "Helpful Commands\n",
    "- Tab Completion: Jupyter supports tab completion! You can type object_name.<TAB> to view an object’s attributes. For tips on cell magics, running Notebooks, and exploring objects, check out the Jupyter docs. \n",
    "- Help: provides an introduction and overview of features.\n"
   ]
  },
  {
   "cell_type": "markdown",
   "metadata": {
    "nbpresent": {
     "id": "b49af87b-28b5-4692-8e8f-532680930d03"
    }
   },
   "source": [
    "#### Languages\n",
    "The bulk of this tutorial discusses executing python code in Jupyter notebooks. You can also use Jupyter notebooks to execute R code. Skip down to the [R section] for more information on using IRkernel with Jupyter notebooks and graphing examples.\n",
    "\n",
    "#### Package Management\n",
    "When installing packages in Jupyter, you either need to install the package in your actual shell, or run the ! prefix, e.g.:\n",
    "\n",
    "!pip install packagename\n",
    "\n",
    "#### You may want to reload submodules if you've edited the code in one. IPython comes with automatic reloading magic. You can reload all changed modules before executing a new line.\n",
    "\n",
    "%load_ext autoreload\n",
    "%autoreload 2"
   ]
  },
  {
   "cell_type": "markdown",
   "metadata": {
    "nbpresent": {
     "id": "2494d44c-a7fb-47af-b65c-41c59d3da647"
    }
   },
   "source": [
    "You probably already know the drill, but these principles include the following:\n",
    "\n",
    "Try to provide comments and documentation to your code. They might be a great help to others!\n",
    "Also consider a consistent naming scheme, code grouping, limit your line length, ...  \n",
    "Don't be afraid to refactor when or if necessary\n",
    "\n",
    "In addition to these general best practices for programming, you could also consider the following tips to make your notebooks the best source for other users to learn:\n",
    "\n",
    "Don't forget to name your notebook documents!\n",
    "Try to keep the cells of your notebook simple: don't exceed the width of your cell and make sure that you don't put too many related functions in one cell.  \n",
    "If possible, import your packages in the first code cell of your notebook, and\n",
    "Display the graphics inline. The magic command %matplotlib inline will definitely come in handy to suppress the output of the function on a final line. Don't forget to add a semicolon to suppress the output and to just give back the plot itself. \n",
    "Sometimes, your notebook can become quite code-heavy or maybe you just want to have a cleaner report. In those cases, you could consider hiding some of this code. You can already hide some of the code by using magic commands such as %run to execute a whole Python script as if it was in a notebook cell. However, this might not help you to the extent that you expect. In such cases, you can always check out this tutorial on optional code visibility or consider toggling your notebook's code cells.\n"
   ]
  },
  {
   "cell_type": "markdown",
   "metadata": {
    "nbpresent": {
     "id": "17937e8a-6268-4a1f-b0a2-481166d054b9"
    }
   },
   "source": [
    "## Jupyter Notebooks for Data Science Teams: Best Practices\n",
    "\n",
    "### 1) Use two types of notebooks for a data science project, namely, a lab notebook and a deliverable notebook. \n",
    "####        The difference between the two (besides the obvious that you can infer from the names that are given to the notebooks) is the fact that individuals control the lab notebook, while the deliverable notebook is controlled by the whole data science team, \n",
    "### 2) Use some type of versioning control (Git, Github, ...). \n",
    "### 3) Don't forget to commit also the HTML file if your version control system lacks rendering capabilities, and \n",
    "### 4) Use explicit rules on the naming of your documents.  "
   ]
  },
  {
   "cell_type": "markdown",
   "metadata": {
    "nbpresent": {
     "id": "5b1d17a8-0055-41d4-a2cb-77618ff7b279"
    }
   },
   "source": [
    "Introduction\n",
    "It happened few years back. After working on SAS for more than 5 years, I decided to move out of my comfort zone. Being a data scientist, my hunt for other useful tools was ON! Fortunately, it didn’t take me long to decide, Python was my appetizer.\n",
    "\n",
    "I always had a inclination towards coding. This was the time to do what I really loved. Code. Turned out, coding was so easy!\n",
    "\n",
    "I learned basics of Python within a week. And, since then, I’ve not only explored this language to the depth, but also have helped many other to learn this language. Python was originally a general purpose language. But, over the years, with strong community support, this language got dedicated library for data analysis and predictive modeling.\n",
    "\n",
    "Due to lack of resource on python for data science, I decided to create this tutorial to help many others to learn python faster. In this tutorial, we will take bite sized information about how to use Python for Data Analysis, chew it till we are comfortable and practice it at our own end.\n"
   ]
  },
  {
   "cell_type": "code",
   "execution_count": null,
   "metadata": {
    "collapsed": true,
    "nbpresent": {
     "id": "5b40fe19-bdf2-4691-bba1-dd0f4ce5fbda"
    }
   },
   "outputs": [],
   "source": []
  }
 ],
 "metadata": {
  "anaconda-cloud": {},
  "kernelspec": {
   "display_name": "Python [default]",
   "language": "python",
   "name": "python3"
  },
  "language_info": {
   "codemirror_mode": {
    "name": "ipython",
    "version": 3
   },
   "file_extension": ".py",
   "mimetype": "text/x-python",
   "name": "python",
   "nbconvert_exporter": "python",
   "pygments_lexer": "ipython3",
   "version": "3.5.2"
  },
  "nbpresent": {
   "slides": {
    "0565f0f8-3297-4683-bde4-a9e04cb841df": {
     "id": "0565f0f8-3297-4683-bde4-a9e04cb841df",
     "prev": "e1571c0d-6b92-4954-bd08-14368be1af31",
     "regions": {
      "e78bc039-5f3e-4642-b05e-40f53f196df1": {
       "attrs": {
        "height": 0.8,
        "width": 0.8,
        "x": 0.1,
        "y": 0.1
       },
       "content": {
        "cell": "3b776f64-65ee-412e-b7c7-6551c24faf3b",
        "part": "whole"
       },
       "id": "e78bc039-5f3e-4642-b05e-40f53f196df1"
      }
     }
    },
    "094de06d-ed94-44b6-8139-c3b767465b7c": {
     "id": "094de06d-ed94-44b6-8139-c3b767465b7c",
     "prev": "658c8a09-f0c8-4da1-9f0e-9cb8bc4ff412",
     "regions": {
      "b6c31e76-390a-4a09-b7b2-2544a90f345d": {
       "attrs": {
        "height": 0.8,
        "width": 0.8,
        "x": 0.1,
        "y": 0.1
       },
       "content": {
        "cell": "8f54a144-5b6a-4c6d-9111-cf6d0b6e8e66",
        "part": "whole"
       },
       "id": "b6c31e76-390a-4a09-b7b2-2544a90f345d"
      }
     }
    },
    "0bc7194f-0f36-4b06-a340-e444210d8d6c": {
     "id": "0bc7194f-0f36-4b06-a340-e444210d8d6c",
     "prev": "b84f5246-e982-4050-8a6b-8f43a22a2aff",
     "regions": {
      "00f1fd9e-1fef-4d0e-bc7e-e1eb7dc1dff6": {
       "attrs": {
        "height": 0.8,
        "width": 0.8,
        "x": 0.1,
        "y": 0.1
       },
       "content": {
        "cell": "17c6c8fd-5a03-4535-8904-01ce3af835b3",
        "part": "whole"
       },
       "id": "00f1fd9e-1fef-4d0e-bc7e-e1eb7dc1dff6"
      }
     }
    },
    "1da29a99-d7df-4835-a5a7-505b41d33406": {
     "id": "1da29a99-d7df-4835-a5a7-505b41d33406",
     "prev": "854fce46-b1ea-42b7-a8dd-05f098341072",
     "regions": {
      "138da7a5-dcef-461b-834f-34c816117d4c": {
       "attrs": {
        "height": 0.8,
        "width": 0.8,
        "x": 0.1,
        "y": 0.1
       },
       "content": {
        "cell": "b49af87b-28b5-4692-8e8f-532680930d03",
        "part": "whole"
       },
       "id": "138da7a5-dcef-461b-834f-34c816117d4c"
      }
     }
    },
    "207624a6-b308-4893-8192-63ec16b0c1fd": {
     "id": "207624a6-b308-4893-8192-63ec16b0c1fd",
     "prev": "7fc7e781-509f-4cf3-be55-5fdf56dcc669",
     "regions": {
      "c613bb87-366c-41af-a397-9264fb889589": {
       "attrs": {
        "height": 0.8,
        "width": 0.8,
        "x": 0.1,
        "y": 0.1
       },
       "content": {
        "cell": "5b40fe19-bdf2-4691-bba1-dd0f4ce5fbda",
        "part": "whole"
       },
       "id": "c613bb87-366c-41af-a397-9264fb889589"
      }
     }
    },
    "34313072-415e-40d1-a520-271e995685fa": {
     "id": "34313072-415e-40d1-a520-271e995685fa",
     "prev": "bc0b062a-f64c-4013-9ce4-dc4ed9aafcd8",
     "regions": {
      "4a5571eb-ab6a-434c-89a2-2873e6da18c6": {
       "attrs": {
        "height": 0.8,
        "width": 0.8,
        "x": 0.1,
        "y": 0.1
       },
       "content": {
        "cell": "bae7ae9d-eb10-4199-96ec-76f07a933a00",
        "part": "whole"
       },
       "id": "4a5571eb-ab6a-434c-89a2-2873e6da18c6"
      }
     }
    },
    "473de68a-c000-4480-92ac-3f734d96cd25": {
     "id": "473de68a-c000-4480-92ac-3f734d96cd25",
     "prev": "094de06d-ed94-44b6-8139-c3b767465b7c",
     "regions": {
      "d4062abb-f837-4a50-bcd5-51111ab4fb6d": {
       "attrs": {
        "height": 0.8,
        "width": 0.8,
        "x": 0.1,
        "y": 0.1
       },
       "content": {
        "cell": "0743e68a-7963-41e3-8309-cc9973238410",
        "part": "whole"
       },
       "id": "d4062abb-f837-4a50-bcd5-51111ab4fb6d"
      }
     }
    },
    "574b821e-1b0b-4848-ae64-cc3129940648": {
     "id": "574b821e-1b0b-4848-ae64-cc3129940648",
     "prev": "e57861d7-2c5e-4d73-95a7-720f387521f8",
     "regions": {
      "33ef3d47-ce54-4024-be24-d25f497018a7": {
       "attrs": {
        "height": 0.8,
        "width": 0.8,
        "x": 0.1,
        "y": 0.1
       },
       "content": {
        "cell": "17937e8a-6268-4a1f-b0a2-481166d054b9",
        "part": "whole"
       },
       "id": "33ef3d47-ce54-4024-be24-d25f497018a7"
      }
     }
    },
    "658c8a09-f0c8-4da1-9f0e-9cb8bc4ff412": {
     "id": "658c8a09-f0c8-4da1-9f0e-9cb8bc4ff412",
     "prev": "cb79c986-c1f7-42d6-9027-e29be70db312",
     "regions": {
      "dc1630fd-946c-45b2-a849-c9279d0ca48b": {
       "attrs": {
        "height": 0.8,
        "width": 0.8,
        "x": 0.1,
        "y": 0.1
       },
       "content": {
        "cell": "1404b24a-e11b-4081-a008-487bdf25215c",
        "part": "whole"
       },
       "id": "dc1630fd-946c-45b2-a849-c9279d0ca48b"
      }
     }
    },
    "6664d32a-b913-432b-ba7d-f6f01c188b63": {
     "id": "6664d32a-b913-432b-ba7d-f6f01c188b63",
     "prev": "b66f1018-3d57-4f1a-8940-ea2951e828eb",
     "regions": {
      "27039dce-1a8a-49b1-a960-e465f39c27b2": {
       "attrs": {
        "height": 0.8,
        "width": 0.8,
        "x": 0.1,
        "y": 0.1
       },
       "content": {
        "cell": "e4b7ccbf-62dc-4a7a-b17a-a670c140f47e",
        "part": "whole"
       },
       "id": "27039dce-1a8a-49b1-a960-e465f39c27b2"
      }
     }
    },
    "7fc7e781-509f-4cf3-be55-5fdf56dcc669": {
     "id": "7fc7e781-509f-4cf3-be55-5fdf56dcc669",
     "prev": "574b821e-1b0b-4848-ae64-cc3129940648",
     "regions": {
      "bbd1d4f7-5a05-4306-8b95-c8c91aa463fd": {
       "attrs": {
        "height": 0.8,
        "width": 0.8,
        "x": 0.1,
        "y": 0.1
       },
       "content": {
        "cell": "5b1d17a8-0055-41d4-a2cb-77618ff7b279",
        "part": "whole"
       },
       "id": "bbd1d4f7-5a05-4306-8b95-c8c91aa463fd"
      }
     }
    },
    "835eae9c-a2b5-4e7a-b9b8-f6da3a9b3ad8": {
     "id": "835eae9c-a2b5-4e7a-b9b8-f6da3a9b3ad8",
     "prev": "0bc7194f-0f36-4b06-a340-e444210d8d6c",
     "regions": {
      "b31f0f8b-1004-4224-a341-ea5e7d463fb1": {
       "attrs": {
        "height": 0.8,
        "width": 0.8,
        "x": 0.1,
        "y": 0.1
       },
       "content": {
        "cell": "16fe02ab-39f5-487f-b60c-7703d0121169",
        "part": "whole"
       },
       "id": "b31f0f8b-1004-4224-a341-ea5e7d463fb1"
      }
     }
    },
    "854fce46-b1ea-42b7-a8dd-05f098341072": {
     "id": "854fce46-b1ea-42b7-a8dd-05f098341072",
     "prev": "6664d32a-b913-432b-ba7d-f6f01c188b63",
     "regions": {
      "3769ef38-06e1-4942-9881-fc17b19b22af": {
       "attrs": {
        "height": 0.8,
        "width": 0.8,
        "x": 0.1,
        "y": 0.1
       },
       "content": {
        "cell": "ff2debc1-4e57-481c-966e-906407f2ed57",
        "part": "whole"
       },
       "id": "3769ef38-06e1-4942-9881-fc17b19b22af"
      }
     }
    },
    "915aff65-97d0-4a70-be56-e2b49f21c27b": {
     "id": "915aff65-97d0-4a70-be56-e2b49f21c27b",
     "prev": "bc3e1a47-f566-4050-818c-b4bd9c32d628",
     "regions": {
      "991e9a60-1ecd-4821-8919-c7d5a0aabbad": {
       "attrs": {
        "height": 0.8,
        "width": 0.8,
        "x": 0.1,
        "y": 0.1
       },
       "content": {
        "cell": "7086363c-1d32-42ba-b86a-67f4bc028cff",
        "part": "whole"
       },
       "id": "991e9a60-1ecd-4821-8919-c7d5a0aabbad"
      }
     }
    },
    "9b8d93bc-263f-4017-a2c2-d342019a6d3a": {
     "id": "9b8d93bc-263f-4017-a2c2-d342019a6d3a",
     "prev": "db2d09bf-2e67-4173-90e2-b801d7c65287",
     "regions": {
      "ba7a6ed4-a902-4c2d-a77b-981c7c5cbe35": {
       "attrs": {
        "height": 0.8,
        "width": 0.8,
        "x": 0.1,
        "y": 0.1
       },
       "content": {
        "cell": "209d5a27-2a38-44ab-a869-204d5ffe8774",
        "part": "whole"
       },
       "id": "ba7a6ed4-a902-4c2d-a77b-981c7c5cbe35"
      }
     }
    },
    "a69ace7e-1f58-483b-a59b-6ca5c8e45e91": {
     "id": "a69ace7e-1f58-483b-a59b-6ca5c8e45e91",
     "prev": "473de68a-c000-4480-92ac-3f734d96cd25",
     "regions": {
      "8581bf8e-4ab2-4083-a6db-1e7599410b8d": {
       "attrs": {
        "height": 0.8,
        "width": 0.8,
        "x": 0.1,
        "y": 0.1
       },
       "content": {
        "cell": "b656f580-82a6-4da6-8d81-05495cd4baa6",
        "part": "whole"
       },
       "id": "8581bf8e-4ab2-4083-a6db-1e7599410b8d"
      }
     }
    },
    "a8da9359-6157-4ae0-911b-d832f2ffdd1e": {
     "id": "a8da9359-6157-4ae0-911b-d832f2ffdd1e",
     "prev": "f9ca7275-a57e-480d-b284-b119ece42bcc",
     "regions": {
      "a071abbb-67f3-4b3d-ac5f-3fef8a1f5e66": {
       "attrs": {
        "height": 0.8,
        "width": 0.8,
        "x": 0.1,
        "y": 0.1
       },
       "content": {
        "cell": "0bfb5d3b-1215-4773-a7ec-16ed9e6aaec2",
        "part": "whole"
       },
       "id": "a071abbb-67f3-4b3d-ac5f-3fef8a1f5e66"
      }
     }
    },
    "b66f1018-3d57-4f1a-8940-ea2951e828eb": {
     "id": "b66f1018-3d57-4f1a-8940-ea2951e828eb",
     "prev": "cb54771d-cca8-430c-aa40-14c9c2f85337",
     "regions": {
      "daf90168-7c61-426e-9f0b-2675f5275785": {
       "attrs": {
        "height": 0.8,
        "width": 0.8,
        "x": 0.1,
        "y": 0.1
       },
       "content": {
        "cell": "4eb5a6e0-4e63-4483-9b3f-5a1cdfa10cfc",
        "part": "whole"
       },
       "id": "daf90168-7c61-426e-9f0b-2675f5275785"
      }
     }
    },
    "b84f5246-e982-4050-8a6b-8f43a22a2aff": {
     "id": "b84f5246-e982-4050-8a6b-8f43a22a2aff",
     "prev": "34313072-415e-40d1-a520-271e995685fa",
     "regions": {
      "e290afb1-3c8b-45bc-bac6-2b2b47e3180f": {
       "attrs": {
        "height": 0.8,
        "width": 0.8,
        "x": 0.1,
        "y": 0.1
       },
       "content": {
        "cell": "a55667de-5183-417b-bc24-30cf27d41fe9",
        "part": "whole"
       },
       "id": "e290afb1-3c8b-45bc-bac6-2b2b47e3180f"
      }
     }
    },
    "bc0b062a-f64c-4013-9ce4-dc4ed9aafcd8": {
     "id": "bc0b062a-f64c-4013-9ce4-dc4ed9aafcd8",
     "prev": null,
     "regions": {
      "3e15b3d1-06d6-4c40-992d-6afac5697eb1": {
       "attrs": {
        "height": 0.8,
        "width": 0.8,
        "x": 0.1,
        "y": 0.1
       },
       "content": {
        "cell": "db97b86c-2083-4d1b-a225-11ae1501314a",
        "part": "whole"
       },
       "id": "3e15b3d1-06d6-4c40-992d-6afac5697eb1"
      }
     }
    },
    "bc3e1a47-f566-4050-818c-b4bd9c32d628": {
     "id": "bc3e1a47-f566-4050-818c-b4bd9c32d628",
     "prev": "d75c7c09-b78c-4210-9520-9c6351a68d95",
     "regions": {
      "a6da499a-10e4-4e53-87c6-6ec1f001e959": {
       "attrs": {
        "height": 0.8,
        "width": 0.8,
        "x": 0.1,
        "y": 0.1
       },
       "content": {
        "cell": "29fec28b-9ea7-4c00-8eca-e56ea7a075d2",
        "part": "whole"
       },
       "id": "a6da499a-10e4-4e53-87c6-6ec1f001e959"
      }
     }
    },
    "cb54771d-cca8-430c-aa40-14c9c2f85337": {
     "id": "cb54771d-cca8-430c-aa40-14c9c2f85337",
     "prev": "0565f0f8-3297-4683-bde4-a9e04cb841df",
     "regions": {
      "454d5368-83db-4dcb-93d3-1edd5a3cef3c": {
       "attrs": {
        "height": 0.8,
        "width": 0.8,
        "x": 0.1,
        "y": 0.1
       },
       "content": {
        "cell": "e4de41b4-771b-445b-b56e-c92ef92c0ad9",
        "part": "whole"
       },
       "id": "454d5368-83db-4dcb-93d3-1edd5a3cef3c"
      }
     }
    },
    "cb79c986-c1f7-42d6-9027-e29be70db312": {
     "id": "cb79c986-c1f7-42d6-9027-e29be70db312",
     "prev": "9b8d93bc-263f-4017-a2c2-d342019a6d3a",
     "regions": {
      "42b60743-9dce-419d-8681-a72adf397f22": {
       "attrs": {
        "height": 0.8,
        "width": 0.8,
        "x": 0.1,
        "y": 0.1
       },
       "content": {
        "cell": "ebabe44f-f6ae-42b3-bfc5-d2b66ae5c4d7",
        "part": "whole"
       },
       "id": "42b60743-9dce-419d-8681-a72adf397f22"
      }
     }
    },
    "d75c7c09-b78c-4210-9520-9c6351a68d95": {
     "id": "d75c7c09-b78c-4210-9520-9c6351a68d95",
     "prev": "ea357e8e-470e-43e7-a418-aa8bd8b3e66e",
     "regions": {
      "e1366906-4d20-4d9c-aac3-f928fb38144f": {
       "attrs": {
        "height": 0.8,
        "width": 0.8,
        "x": 0.1,
        "y": 0.1
       },
       "content": {
        "cell": "01a08b32-696c-4bf6-912e-f9d6f7db1406",
        "part": "whole"
       },
       "id": "e1366906-4d20-4d9c-aac3-f928fb38144f"
      }
     }
    },
    "db2d09bf-2e67-4173-90e2-b801d7c65287": {
     "id": "db2d09bf-2e67-4173-90e2-b801d7c65287",
     "prev": "835eae9c-a2b5-4e7a-b9b8-f6da3a9b3ad8",
     "regions": {
      "b7478128-016b-40ea-b7ef-092256c8cfee": {
       "attrs": {
        "height": 0.8,
        "width": 0.8,
        "x": 0.1,
        "y": 0.1
       },
       "content": {
        "cell": "dba72cc1-93d6-4cf0-9539-68f3d5d5b5b3",
        "part": "whole"
       },
       "id": "b7478128-016b-40ea-b7ef-092256c8cfee"
      }
     }
    },
    "e1571c0d-6b92-4954-bd08-14368be1af31": {
     "id": "e1571c0d-6b92-4954-bd08-14368be1af31",
     "prev": "a8da9359-6157-4ae0-911b-d832f2ffdd1e",
     "regions": {
      "fe929047-b531-4125-952b-39816c9e0db2": {
       "attrs": {
        "height": 0.8,
        "width": 0.8,
        "x": 0.1,
        "y": 0.1
       },
       "content": {
        "cell": "7f7086b1-6d4e-4f90-af02-442a8f624c27",
        "part": "whole"
       },
       "id": "fe929047-b531-4125-952b-39816c9e0db2"
      }
     }
    },
    "e57861d7-2c5e-4d73-95a7-720f387521f8": {
     "id": "e57861d7-2c5e-4d73-95a7-720f387521f8",
     "prev": "1da29a99-d7df-4835-a5a7-505b41d33406",
     "regions": {
      "14925091-78e0-4b0f-a08a-035eb5d69fac": {
       "attrs": {
        "height": 0.8,
        "width": 0.8,
        "x": 0.1,
        "y": 0.1
       },
       "content": {
        "cell": "2494d44c-a7fb-47af-b65c-41c59d3da647",
        "part": "whole"
       },
       "id": "14925091-78e0-4b0f-a08a-035eb5d69fac"
      }
     }
    },
    "ea357e8e-470e-43e7-a418-aa8bd8b3e66e": {
     "id": "ea357e8e-470e-43e7-a418-aa8bd8b3e66e",
     "prev": "a69ace7e-1f58-483b-a59b-6ca5c8e45e91",
     "regions": {
      "f66e5415-6626-4099-9e6f-256ab0c6eaa7": {
       "attrs": {
        "height": 0.8,
        "width": 0.8,
        "x": 0.1,
        "y": 0.1
       },
       "content": {
        "cell": "298e46d1-5e12-4211-b720-0db07efbb676",
        "part": "whole"
       },
       "id": "f66e5415-6626-4099-9e6f-256ab0c6eaa7"
      }
     }
    },
    "f9ca7275-a57e-480d-b284-b119ece42bcc": {
     "id": "f9ca7275-a57e-480d-b284-b119ece42bcc",
     "prev": "915aff65-97d0-4a70-be56-e2b49f21c27b",
     "regions": {
      "a43d49e4-55fc-4ab1-8111-3b7d311f31a4": {
       "attrs": {
        "height": 0.8,
        "width": 0.8,
        "x": 0.1,
        "y": 0.1
       },
       "content": {
        "cell": "3420be5f-f831-48c5-a229-212003529b0c",
        "part": "whole"
       },
       "id": "a43d49e4-55fc-4ab1-8111-3b7d311f31a4"
      }
     }
    }
   },
   "themes": {}
  }
 },
 "nbformat": 4,
 "nbformat_minor": 2
}
